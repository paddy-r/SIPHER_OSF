{
 "cells": [
  {
   "cell_type": "code",
   "execution_count": 46,
   "id": "969b806e-a415-45fc-97d5-93babe09470c",
   "metadata": {},
   "outputs": [
    {
     "data": {
      "text/plain": [
       "(54.626077628818614, -1.2247036928385338)"
      ]
     },
     "execution_count": 46,
     "metadata": {},
     "output_type": "execute_result"
    }
   ],
   "source": [
    "from pyproj import Transformer\n",
    "\n",
    "transformer = Transformer.from_crs(\"EPSG:27700\",\"EPSG:4326\")\n",
    "x = 450153.6001\n",
    "y = 525935.8757\n",
    "\n",
    "transformer.transform(x, y)"
   ]
  },
  {
   "cell_type": "code",
   "execution_count": 47,
   "id": "863a9a2d-e9d3-40e4-b088-605e0e13d7c5",
   "metadata": {},
   "outputs": [],
   "source": [
    "import json \n",
    "import numpy as np"
   ]
  },
  {
   "cell_type": "code",
   "execution_count": 48,
   "id": "883ca95e-dc2b-4a3c-9d14-c408988aa074",
   "metadata": {},
   "outputs": [],
   "source": [
    "with open('Local_Authority_Districts_December_2021_GB_BGC_2022_4485095093561745628.geojson') as user_file:\n",
    "  map_dict = json.load(user_file)\n"
   ]
  },
  {
   "cell_type": "code",
   "execution_count": 49,
   "id": "f0d9bb23-2eb2-478d-b3b1-bed137eaf741",
   "metadata": {
    "scrolled": true
   },
   "outputs": [],
   "source": [
    "# for h in range(len(map_dict[\"features\"])):\n",
    "#     for i in range(len(map_dict[\"features\"][h]['geometry']['coordinates'])):\n",
    "#         print(map_dict[\"features\"][h][\"properties\"][\"LAD21NM\"],end=\"  \")\n",
    "#         l = len(np.array(map_dict[\"features\"][h]['geometry']['coordinates'][i]).shape)\n",
    "#         print()\n",
    "           "
   ]
  },
  {
   "cell_type": "code",
   "execution_count": 50,
   "id": "74e5b4b1-5d4b-4aac-97ce-28161a7c9c2e",
   "metadata": {},
   "outputs": [],
   "source": [
    "for h in range(len(map_dict[\"features\"])):\n",
    "    for i in range(len(map_dict[\"features\"][h]['geometry']['coordinates'])):\n",
    "        l = len(np.array(map_dict[\"features\"][h]['geometry']['coordinates'][i]).shape)\n",
    "        for j in range( len(map_dict[\"features\"][h]['geometry']['coordinates'][i])):\n",
    "            if l==3:\n",
    "                for k in range(len(map_dict[\"features\"][h]['geometry']['coordinates'][i][j])):\n",
    "                    x = map_dict[\"features\"][h]['geometry']['coordinates'][i][j][k][0]\n",
    "                    y = map_dict[\"features\"][h]['geometry']['coordinates'][i][j][k][1]\n",
    "                    xt,yt = transformer.transform(x, y)\n",
    "                    map_dict[\"features\"][h]['geometry']['coordinates'][i][j][k][0] = yt\n",
    "                    map_dict[\"features\"][h]['geometry']['coordinates'][i][j][k][1] = xt\n",
    "                    #print(map_dict[\"features\"][h]['geometry']['coordinates'][i][j][k])\n",
    "                    #print()\n",
    "            else:\n",
    "                x = map_dict[\"features\"][h]['geometry']['coordinates'][i][j][0]\n",
    "                y = map_dict[\"features\"][h]['geometry']['coordinates'][i][j][1]\n",
    "                xt,yt = transformer.transform(x, y)\n",
    "                map_dict[\"features\"][h]['geometry']['coordinates'][i][j][0] = yt\n",
    "                map_dict[\"features\"][h]['geometry']['coordinates'][i][j][1] = xt\n",
    "                    # print(map_dict[\"features\"][h]['geometry']['coordinates'][i][j],end=\" \")\n",
    "                    # print(map_dict[\"features\"][h][\"properties\"][\"LAD21NM\"],end=\"  \")\n",
    "                    # print(len(np.array(map_dict[\"features\"][h]['geometry']['coordinates'][i]).shape))\n"
   ]
  },
  {
   "cell_type": "code",
   "execution_count": 51,
   "id": "61a00267-5fb4-4f57-95f4-ec5975e7188c",
   "metadata": {},
   "outputs": [],
   "source": [
    "with open('converted2.json', 'w') as f:\n",
    "    json.dump(map_dict, f)"
   ]
  },
  {
   "cell_type": "code",
   "execution_count": null,
   "id": "695cf538-620d-4fe3-a626-13abdc6da787",
   "metadata": {},
   "outputs": [],
   "source": []
  }
 ],
 "metadata": {
  "kernelspec": {
   "display_name": "Python 3 (ipykernel)",
   "language": "python",
   "name": "python3"
  },
  "language_info": {
   "codemirror_mode": {
    "name": "ipython",
    "version": 3
   },
   "file_extension": ".py",
   "mimetype": "text/x-python",
   "name": "python",
   "nbconvert_exporter": "python",
   "pygments_lexer": "ipython3",
   "version": "3.11.6"
  }
 },
 "nbformat": 4,
 "nbformat_minor": 5
}
